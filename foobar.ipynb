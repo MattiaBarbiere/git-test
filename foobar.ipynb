{
 "cells": [
  {
   "cell_type": "code",
   "execution_count": null,
   "metadata": {},
   "outputs": [],
   "source": [
    "def foo():\n",
    "    print('foo')\n",
    "def bar():\n",
    "    print('bar')"
    "def foobar():\n",
    "    foo()\n",
    "    bar()\n",
    "\n",
    "foobar()"
   ]
  }
 ],
 "metadata": {
  "language_info": {
   "name": "python"
  },
  "orig_nbformat": 4
 },
 "nbformat": 4,
 "nbformat_minor": 2
}
